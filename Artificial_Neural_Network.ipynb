{
  "nbformat": 4,
  "nbformat_minor": 0,
  "metadata": {
    "colab": {
      "provenance": [],
      "include_colab_link": true
    },
    "kernelspec": {
      "name": "python3",
      "display_name": "Python 3"
    }
  },
  "cells": [
    {
      "cell_type": "markdown",
      "metadata": {
        "id": "view-in-github",
        "colab_type": "text"
      },
      "source": [
        "<a href=\"https://colab.research.google.com/github/Taufiq-ML/ANN/blob/main/Artificial_Neural_Network.ipynb\" target=\"_parent\"><img src=\"https://colab.research.google.com/assets/colab-badge.svg\" alt=\"Open In Colab\"/></a>"
      ]
    },
    {
      "cell_type": "markdown",
      "metadata": {
        "id": "3cbb7fRy-eyr"
      },
      "source": [
        "# Artificial Neural Network"
      ]
    },
    {
      "cell_type": "markdown",
      "metadata": {
        "id": "8sNDnxE2-pwE"
      },
      "source": [
        "### Importing the libraries"
      ]
    },
    {
      "cell_type": "code",
      "metadata": {
        "id": "lxChR1Rk-umf"
      },
      "source": [
        "import numpy as np\n",
        "import pandas as pd\n",
        "import tensorflow as tf"
      ],
      "execution_count": null,
      "outputs": []
    },
    {
      "cell_type": "code",
      "metadata": {
        "id": "uBTqR3nacj0e",
        "colab": {
          "base_uri": "https://localhost:8080/",
          "height": 36
        },
        "outputId": "9c7fa2d5-5af4-4e36-c3aa-5a463fbaaf51"
      },
      "source": [
        "tf.__version__"
      ],
      "execution_count": null,
      "outputs": [
        {
          "output_type": "execute_result",
          "data": {
            "text/plain": [
              "'2.15.0'"
            ],
            "application/vnd.google.colaboratory.intrinsic+json": {
              "type": "string"
            }
          },
          "metadata": {},
          "execution_count": 4
        }
      ]
    },
    {
      "cell_type": "markdown",
      "metadata": {
        "id": "AG3FQEch-yuA"
      },
      "source": [
        "## Part 1 - Data Preprocessing"
      ]
    },
    {
      "cell_type": "markdown",
      "metadata": {
        "id": "-4zq8Mza_D9O"
      },
      "source": [
        "### Importing the dataset"
      ]
    },
    {
      "cell_type": "code",
      "source": [
        "from google.colab import drive\n",
        "drive.mount('/content/drive')"
      ],
      "metadata": {
        "colab": {
          "base_uri": "https://localhost:8080/"
        },
        "id": "iN5vWQBHJ0px",
        "outputId": "a3a404dc-27c3-45a8-a62a-074572ca0f17"
      },
      "execution_count": null,
      "outputs": [
        {
          "output_type": "stream",
          "name": "stdout",
          "text": [
            "Mounted at /content/drive\n"
          ]
        }
      ]
    },
    {
      "cell_type": "code",
      "metadata": {
        "id": "B9CV13Co_HHM"
      },
      "source": [
        "dataset = pd.read_excel('/content/drive/MyDrive/Folds5x2_pp.xlsx')\n",
        "X = dataset.iloc[:, :-1].values\n",
        "y = dataset.iloc[:, -1].values"
      ],
      "execution_count": null,
      "outputs": []
    },
    {
      "cell_type": "markdown",
      "metadata": {
        "id": "VC6omXel_Up0"
      },
      "source": [
        "### Splitting the dataset into the Training set and Test set"
      ]
    },
    {
      "cell_type": "code",
      "metadata": {
        "id": "L5edeb2r_agx"
      },
      "source": [
        "from sklearn.model_selection import train_test_split\n",
        "X_train, X_test, y_train, y_test = train_test_split(X, y, test_size = 0.2, random_state = 0)"
      ],
      "execution_count": null,
      "outputs": []
    },
    {
      "cell_type": "markdown",
      "metadata": {
        "id": "_mSLlAT9_eyI"
      },
      "source": [
        "## Part 2 - Building the ANN"
      ]
    },
    {
      "cell_type": "markdown",
      "metadata": {
        "id": "CsBULd_f_wLY"
      },
      "source": [
        "### Initializing the ANN"
      ]
    },
    {
      "cell_type": "code",
      "metadata": {
        "id": "J6Hd97Ls__Nz"
      },
      "source": [
        "ann = tf.keras.models.Sequential()"
      ],
      "execution_count": null,
      "outputs": []
    },
    {
      "cell_type": "markdown",
      "metadata": {
        "id": "iitAFJS_ABUn"
      },
      "source": [
        "### Adding the input layer and the first hidden layer"
      ]
    },
    {
      "cell_type": "code",
      "metadata": {
        "id": "ksO_Vv40AHix"
      },
      "source": [
        "ann.add(tf.keras.layers.Dense(units=6, activation='relu'))"
      ],
      "execution_count": null,
      "outputs": []
    },
    {
      "cell_type": "markdown",
      "metadata": {
        "id": "-lb4kK_wAKbs"
      },
      "source": [
        "### Adding the second hidden layer"
      ]
    },
    {
      "cell_type": "code",
      "metadata": {
        "id": "c2357OqEAQOQ"
      },
      "source": [
        "ann.add(tf.keras.layers.Dense(units=6, activation='relu'))"
      ],
      "execution_count": null,
      "outputs": []
    },
    {
      "cell_type": "markdown",
      "metadata": {
        "id": "jwMOmKb3AdBY"
      },
      "source": [
        "### Adding the output layer"
      ]
    },
    {
      "cell_type": "code",
      "metadata": {
        "id": "YFATpzsUAkLL"
      },
      "source": [
        "ann.add(tf.keras.layers.Dense(units=1))"
      ],
      "execution_count": null,
      "outputs": []
    },
    {
      "cell_type": "markdown",
      "metadata": {
        "id": "fq7e4fF6A1yy"
      },
      "source": [
        "## Part 3 - Training the ANN"
      ]
    },
    {
      "cell_type": "markdown",
      "metadata": {
        "id": "qDeylAs2An25"
      },
      "source": [
        "### Compiling the ANN"
      ]
    },
    {
      "cell_type": "code",
      "metadata": {
        "id": "pesgbWlCAtB4"
      },
      "source": [
        "ann.compile(optimizer = 'adam', loss = 'mean_squared_error')"
      ],
      "execution_count": null,
      "outputs": []
    },
    {
      "cell_type": "markdown",
      "metadata": {
        "id": "YjVuiybYOo7r"
      },
      "source": [
        "### Training the ANN model on the Training set"
      ]
    },
    {
      "cell_type": "code",
      "metadata": {
        "id": "c_vV-tiiA5zn",
        "colab": {
          "base_uri": "https://localhost:8080/"
        },
        "outputId": "e016a123-5cf2-421b-b9fc-84087be52fa6"
      },
      "source": [
        "ann.fit(X_train, y_train, batch_size = 32, epochs = 100)"
      ],
      "execution_count": null,
      "outputs": [
        {
          "output_type": "stream",
          "name": "stdout",
          "text": [
            "Epoch 1/100\n",
            "240/240 [==============================] - 1s 2ms/step - loss: 27262.3906\n",
            "Epoch 2/100\n",
            "240/240 [==============================] - 0s 2ms/step - loss: 327.5399\n",
            "Epoch 3/100\n",
            "240/240 [==============================] - 0s 2ms/step - loss: 273.9208\n",
            "Epoch 4/100\n",
            "240/240 [==============================] - 0s 2ms/step - loss: 237.8678\n",
            "Epoch 5/100\n",
            "240/240 [==============================] - 0s 2ms/step - loss: 199.5219\n",
            "Epoch 6/100\n",
            "240/240 [==============================] - 0s 2ms/step - loss: 162.0174\n",
            "Epoch 7/100\n",
            "240/240 [==============================] - 0s 2ms/step - loss: 128.7328\n",
            "Epoch 8/100\n",
            "240/240 [==============================] - 0s 2ms/step - loss: 102.6397\n",
            "Epoch 9/100\n",
            "240/240 [==============================] - 0s 2ms/step - loss: 82.7536\n",
            "Epoch 10/100\n",
            "240/240 [==============================] - 0s 2ms/step - loss: 68.9571\n",
            "Epoch 11/100\n",
            "240/240 [==============================] - 0s 2ms/step - loss: 57.9857\n",
            "Epoch 12/100\n",
            "240/240 [==============================] - 0s 2ms/step - loss: 48.1018\n",
            "Epoch 13/100\n",
            "240/240 [==============================] - 0s 2ms/step - loss: 39.7500\n",
            "Epoch 14/100\n",
            "240/240 [==============================] - 0s 2ms/step - loss: 36.8639\n",
            "Epoch 15/100\n",
            "240/240 [==============================] - 0s 2ms/step - loss: 34.9826\n",
            "Epoch 16/100\n",
            "240/240 [==============================] - 0s 2ms/step - loss: 33.6306\n",
            "Epoch 17/100\n",
            "240/240 [==============================] - 0s 2ms/step - loss: 33.6004\n",
            "Epoch 18/100\n",
            "240/240 [==============================] - 0s 2ms/step - loss: 31.9553\n",
            "Epoch 19/100\n",
            "240/240 [==============================] - 0s 2ms/step - loss: 30.8197\n",
            "Epoch 20/100\n",
            "240/240 [==============================] - 0s 2ms/step - loss: 31.0926\n",
            "Epoch 21/100\n",
            "240/240 [==============================] - 0s 2ms/step - loss: 30.0697\n",
            "Epoch 22/100\n",
            "240/240 [==============================] - 0s 2ms/step - loss: 28.9217\n",
            "Epoch 23/100\n",
            "240/240 [==============================] - 0s 2ms/step - loss: 28.3328\n",
            "Epoch 24/100\n",
            "240/240 [==============================] - 1s 2ms/step - loss: 28.8142\n",
            "Epoch 25/100\n",
            "240/240 [==============================] - 1s 2ms/step - loss: 27.0970\n",
            "Epoch 26/100\n",
            "240/240 [==============================] - 1s 2ms/step - loss: 27.4828\n",
            "Epoch 27/100\n",
            "240/240 [==============================] - 1s 2ms/step - loss: 26.9560\n",
            "Epoch 28/100\n",
            "240/240 [==============================] - 1s 2ms/step - loss: 26.4025\n",
            "Epoch 29/100\n",
            "240/240 [==============================] - 1s 2ms/step - loss: 25.7395\n",
            "Epoch 30/100\n",
            "240/240 [==============================] - 1s 2ms/step - loss: 26.5180\n",
            "Epoch 31/100\n",
            "240/240 [==============================] - 0s 2ms/step - loss: 26.4689\n",
            "Epoch 32/100\n",
            "240/240 [==============================] - 0s 2ms/step - loss: 25.1910\n",
            "Epoch 33/100\n",
            "240/240 [==============================] - 0s 2ms/step - loss: 25.2593\n",
            "Epoch 34/100\n",
            "240/240 [==============================] - 0s 2ms/step - loss: 25.7880\n",
            "Epoch 35/100\n",
            "240/240 [==============================] - 0s 2ms/step - loss: 25.5418\n",
            "Epoch 36/100\n",
            "240/240 [==============================] - 0s 2ms/step - loss: 26.3143\n",
            "Epoch 37/100\n",
            "240/240 [==============================] - 0s 2ms/step - loss: 26.3778\n",
            "Epoch 38/100\n",
            "240/240 [==============================] - 0s 2ms/step - loss: 26.4656\n",
            "Epoch 39/100\n",
            "240/240 [==============================] - 0s 2ms/step - loss: 26.2934\n",
            "Epoch 40/100\n",
            "240/240 [==============================] - 0s 2ms/step - loss: 25.2517\n",
            "Epoch 41/100\n",
            "240/240 [==============================] - 0s 2ms/step - loss: 25.5292\n",
            "Epoch 42/100\n",
            "240/240 [==============================] - 0s 2ms/step - loss: 25.5472\n",
            "Epoch 43/100\n",
            "240/240 [==============================] - 0s 2ms/step - loss: 25.0620\n",
            "Epoch 44/100\n",
            "240/240 [==============================] - 0s 2ms/step - loss: 25.4009\n",
            "Epoch 45/100\n",
            "240/240 [==============================] - 1s 3ms/step - loss: 25.7209\n",
            "Epoch 46/100\n",
            "240/240 [==============================] - 0s 2ms/step - loss: 25.7546\n",
            "Epoch 47/100\n",
            "240/240 [==============================] - 1s 3ms/step - loss: 25.6707\n",
            "Epoch 48/100\n",
            "240/240 [==============================] - 0s 2ms/step - loss: 25.2867\n",
            "Epoch 49/100\n",
            "240/240 [==============================] - 1s 3ms/step - loss: 25.2855\n",
            "Epoch 50/100\n",
            "240/240 [==============================] - 0s 2ms/step - loss: 25.0674\n",
            "Epoch 51/100\n",
            "240/240 [==============================] - 0s 2ms/step - loss: 25.0151\n",
            "Epoch 52/100\n",
            "240/240 [==============================] - 0s 2ms/step - loss: 25.9386\n",
            "Epoch 53/100\n",
            "240/240 [==============================] - 0s 2ms/step - loss: 25.3178\n",
            "Epoch 54/100\n",
            "240/240 [==============================] - 0s 2ms/step - loss: 25.5818\n",
            "Epoch 55/100\n",
            "240/240 [==============================] - 1s 2ms/step - loss: 25.3181\n",
            "Epoch 56/100\n",
            "240/240 [==============================] - 1s 2ms/step - loss: 26.6943\n",
            "Epoch 57/100\n",
            "240/240 [==============================] - 1s 2ms/step - loss: 26.4612\n",
            "Epoch 58/100\n",
            "240/240 [==============================] - 1s 2ms/step - loss: 25.0246\n",
            "Epoch 59/100\n",
            "240/240 [==============================] - 1s 2ms/step - loss: 25.5120\n",
            "Epoch 60/100\n",
            "240/240 [==============================] - 1s 2ms/step - loss: 25.0591\n",
            "Epoch 61/100\n",
            "240/240 [==============================] - 1s 2ms/step - loss: 25.6643\n",
            "Epoch 62/100\n",
            "240/240 [==============================] - 0s 2ms/step - loss: 25.1209\n",
            "Epoch 63/100\n",
            "240/240 [==============================] - 0s 2ms/step - loss: 25.7003\n",
            "Epoch 64/100\n",
            "240/240 [==============================] - 0s 2ms/step - loss: 26.7412\n",
            "Epoch 65/100\n",
            "240/240 [==============================] - 0s 2ms/step - loss: 24.7871\n",
            "Epoch 66/100\n",
            "240/240 [==============================] - 0s 2ms/step - loss: 26.4853\n",
            "Epoch 67/100\n",
            "240/240 [==============================] - 0s 2ms/step - loss: 26.3496\n",
            "Epoch 68/100\n",
            "240/240 [==============================] - 0s 2ms/step - loss: 24.8335\n",
            "Epoch 69/100\n",
            "240/240 [==============================] - 0s 2ms/step - loss: 24.5408\n",
            "Epoch 70/100\n",
            "240/240 [==============================] - 0s 2ms/step - loss: 24.6705\n",
            "Epoch 71/100\n",
            "240/240 [==============================] - 0s 2ms/step - loss: 24.7851\n",
            "Epoch 72/100\n",
            "240/240 [==============================] - 0s 2ms/step - loss: 24.5217\n",
            "Epoch 73/100\n",
            "240/240 [==============================] - 0s 2ms/step - loss: 26.6635\n",
            "Epoch 74/100\n",
            "240/240 [==============================] - 0s 2ms/step - loss: 25.8734\n",
            "Epoch 75/100\n",
            "240/240 [==============================] - 0s 2ms/step - loss: 25.2624\n",
            "Epoch 76/100\n",
            "240/240 [==============================] - 0s 2ms/step - loss: 25.1792\n",
            "Epoch 77/100\n",
            "240/240 [==============================] - 0s 2ms/step - loss: 26.3768\n",
            "Epoch 78/100\n",
            "240/240 [==============================] - 0s 2ms/step - loss: 25.7384\n",
            "Epoch 79/100\n",
            "240/240 [==============================] - 0s 2ms/step - loss: 25.1561\n",
            "Epoch 80/100\n",
            "240/240 [==============================] - 0s 2ms/step - loss: 24.7104\n",
            "Epoch 81/100\n",
            "240/240 [==============================] - 0s 2ms/step - loss: 24.3437\n",
            "Epoch 82/100\n",
            "240/240 [==============================] - 0s 2ms/step - loss: 25.1811\n",
            "Epoch 83/100\n",
            "240/240 [==============================] - 0s 2ms/step - loss: 25.2772\n",
            "Epoch 84/100\n",
            "240/240 [==============================] - 0s 2ms/step - loss: 25.8834\n",
            "Epoch 85/100\n",
            "240/240 [==============================] - 0s 2ms/step - loss: 25.5306\n",
            "Epoch 86/100\n",
            "240/240 [==============================] - 0s 2ms/step - loss: 26.3351\n",
            "Epoch 87/100\n",
            "240/240 [==============================] - 1s 2ms/step - loss: 25.0894\n",
            "Epoch 88/100\n",
            "240/240 [==============================] - 1s 2ms/step - loss: 25.1701\n",
            "Epoch 89/100\n",
            "240/240 [==============================] - 1s 2ms/step - loss: 24.9248\n",
            "Epoch 90/100\n",
            "240/240 [==============================] - 1s 2ms/step - loss: 24.9208\n",
            "Epoch 91/100\n",
            "240/240 [==============================] - 1s 2ms/step - loss: 25.9531\n",
            "Epoch 92/100\n",
            "240/240 [==============================] - 1s 2ms/step - loss: 25.1027\n",
            "Epoch 93/100\n",
            "240/240 [==============================] - 1s 2ms/step - loss: 25.5752\n",
            "Epoch 94/100\n",
            "240/240 [==============================] - 0s 2ms/step - loss: 25.8226\n",
            "Epoch 95/100\n",
            "240/240 [==============================] - 0s 2ms/step - loss: 24.5833\n",
            "Epoch 96/100\n",
            "240/240 [==============================] - 0s 2ms/step - loss: 24.9029\n",
            "Epoch 97/100\n",
            "240/240 [==============================] - 0s 2ms/step - loss: 26.3610\n",
            "Epoch 98/100\n",
            "240/240 [==============================] - 0s 2ms/step - loss: 24.9605\n",
            "Epoch 99/100\n",
            "240/240 [==============================] - 0s 2ms/step - loss: 24.5247\n",
            "Epoch 100/100\n",
            "240/240 [==============================] - 0s 2ms/step - loss: 24.8493\n"
          ]
        },
        {
          "output_type": "execute_result",
          "data": {
            "text/plain": [
              "<keras.src.callbacks.History at 0x7af40be2f520>"
            ]
          },
          "metadata": {},
          "execution_count": 12
        }
      ]
    },
    {
      "cell_type": "markdown",
      "metadata": {
        "id": "0H0zKKNEBLD5"
      },
      "source": [
        "### Predicting the results of the Test set"
      ]
    },
    {
      "cell_type": "code",
      "metadata": {
        "id": "IA0yApEmBG1X",
        "colab": {
          "base_uri": "https://localhost:8080/"
        },
        "outputId": "30405198-3226-4417-d4ff-c9435209d78c"
      },
      "source": [
        "y_pred = ann.predict(X_test)\n",
        "np.set_printoptions(precision=2)\n",
        "print(np.concatenate((y_pred.reshape(len(y_pred),1), y_test.reshape(len(y_test),1)),1))"
      ],
      "execution_count": null,
      "outputs": [
        {
          "output_type": "stream",
          "name": "stdout",
          "text": [
            "60/60 [==============================] - 0s 1ms/step\n",
            "[[430.63 431.23]\n",
            " [461.46 460.01]\n",
            " [467.37 461.14]\n",
            " ...\n",
            " [473.98 473.26]\n",
            " [438.75 438.  ]\n",
            " [458.14 463.28]]\n"
          ]
        }
      ]
    }
  ]
}